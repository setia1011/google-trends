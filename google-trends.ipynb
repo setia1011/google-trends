{
 "cells": [
  {
   "cell_type": "markdown",
   "id": "77a5da9b-8e21-4d13-aaea-336214a8d301",
   "metadata": {},
   "source": [
    "<b>1. Import libraries</b>"
   ]
  },
  {
   "cell_type": "code",
   "execution_count": 1,
   "id": "d56e1d26-4ac4-4aad-8091-4cb3f5026225",
   "metadata": {},
   "outputs": [],
   "source": [
    "from pytrends.request import TrendReq\n",
    "import pandas as pd"
   ]
  },
  {
   "cell_type": "markdown",
   "id": "cf83146f-9fad-48d6-b383-6b10fa4c3acc",
   "metadata": {},
   "source": [
    "<b>2. Initialize</b>"
   ]
  },
  {
   "cell_type": "code",
   "execution_count": 2,
   "id": "7ffc8c62-9154-428e-8951-3ac00f2fb60a",
   "metadata": {},
   "outputs": [],
   "source": [
    "pytrends = TrendReq()"
   ]
  },
  {
   "cell_type": "markdown",
   "id": "9d9d3e16-cb81-4f20-8c01-b7ecf9c4cf08",
   "metadata": {},
   "source": [
    "<b>3. General settings</b>"
   ]
  },
  {
   "cell_type": "code",
   "execution_count": 3,
   "id": "2630e48f-8414-4664-bf52-a5b3e5daa1b0",
   "metadata": {},
   "outputs": [],
   "source": [
    "keywords = ['gaun']\n",
    "cat = '0'\n",
    "geo = 'ID'\n",
    "gprop = 'youtube'\n",
    "\n",
    "timeframes = [\n",
    "    'today 5-y',\n",
    "    'today 12-m',\n",
    "    'today 3-m', \n",
    "    'today 1-m',\n",
    "    'now 1-d',\n",
    "    'now 7-d',\n",
    "    'now 1-H',\n",
    "    'now 4-H'\n",
    "]"
   ]
  },
  {
   "cell_type": "code",
   "execution_count": 4,
   "id": "ba7bf07b-e4c6-44cb-84a7-4b298989c944",
   "metadata": {},
   "outputs": [],
   "source": [
    "pytrends.build_payload(keywords, geo=geo, gprop=gprop, timeframe=timeframes[4])"
   ]
  },
  {
   "cell_type": "markdown",
   "id": "712a1d9c-fea6-4ff1-b30a-63117833dd8b",
   "metadata": {},
   "source": [
    "<b>4. Timeseries trends data</b>"
   ]
  },
  {
   "cell_type": "code",
   "execution_count": 5,
   "id": "1d12831d-610a-4c5e-9591-1eca869e8880",
   "metadata": {
    "tags": []
   },
   "outputs": [
    {
     "data": {
      "text/html": [
       "<div>\n",
       "<style scoped>\n",
       "    .dataframe tbody tr th:only-of-type {\n",
       "        vertical-align: middle;\n",
       "    }\n",
       "\n",
       "    .dataframe tbody tr th {\n",
       "        vertical-align: top;\n",
       "    }\n",
       "\n",
       "    .dataframe thead th {\n",
       "        text-align: right;\n",
       "    }\n",
       "</style>\n",
       "<table border=\"1\" class=\"dataframe\">\n",
       "  <thead>\n",
       "    <tr style=\"text-align: right;\">\n",
       "      <th></th>\n",
       "      <th>datetime</th>\n",
       "      <th>value</th>\n",
       "      <th>partial</th>\n",
       "    </tr>\n",
       "  </thead>\n",
       "  <tbody>\n",
       "    <tr>\n",
       "      <th>0</th>\n",
       "      <td>2022-03-01 14:08:00</td>\n",
       "      <td>23</td>\n",
       "      <td>False</td>\n",
       "    </tr>\n",
       "    <tr>\n",
       "      <th>1</th>\n",
       "      <td>2022-03-01 14:16:00</td>\n",
       "      <td>24</td>\n",
       "      <td>False</td>\n",
       "    </tr>\n",
       "    <tr>\n",
       "      <th>2</th>\n",
       "      <td>2022-03-01 14:24:00</td>\n",
       "      <td>27</td>\n",
       "      <td>False</td>\n",
       "    </tr>\n",
       "    <tr>\n",
       "      <th>3</th>\n",
       "      <td>2022-03-01 14:32:00</td>\n",
       "      <td>30</td>\n",
       "      <td>False</td>\n",
       "    </tr>\n",
       "    <tr>\n",
       "      <th>4</th>\n",
       "      <td>2022-03-01 14:40:00</td>\n",
       "      <td>20</td>\n",
       "      <td>False</td>\n",
       "    </tr>\n",
       "    <tr>\n",
       "      <th>5</th>\n",
       "      <td>2022-03-01 14:48:00</td>\n",
       "      <td>26</td>\n",
       "      <td>False</td>\n",
       "    </tr>\n",
       "    <tr>\n",
       "      <th>6</th>\n",
       "      <td>2022-03-01 14:56:00</td>\n",
       "      <td>26</td>\n",
       "      <td>False</td>\n",
       "    </tr>\n",
       "    <tr>\n",
       "      <th>7</th>\n",
       "      <td>2022-03-01 15:04:00</td>\n",
       "      <td>26</td>\n",
       "      <td>False</td>\n",
       "    </tr>\n",
       "    <tr>\n",
       "      <th>8</th>\n",
       "      <td>2022-03-01 15:12:00</td>\n",
       "      <td>36</td>\n",
       "      <td>False</td>\n",
       "    </tr>\n",
       "    <tr>\n",
       "      <th>9</th>\n",
       "      <td>2022-03-01 15:20:00</td>\n",
       "      <td>31</td>\n",
       "      <td>False</td>\n",
       "    </tr>\n",
       "  </tbody>\n",
       "</table>\n",
       "</div>"
      ],
      "text/plain": [
       "             datetime  value  partial\n",
       "0 2022-03-01 14:08:00     23    False\n",
       "1 2022-03-01 14:16:00     24    False\n",
       "2 2022-03-01 14:24:00     27    False\n",
       "3 2022-03-01 14:32:00     30    False\n",
       "4 2022-03-01 14:40:00     20    False\n",
       "5 2022-03-01 14:48:00     26    False\n",
       "6 2022-03-01 14:56:00     26    False\n",
       "7 2022-03-01 15:04:00     26    False\n",
       "8 2022-03-01 15:12:00     36    False\n",
       "9 2022-03-01 15:20:00     31    False"
      ]
     },
     "execution_count": 5,
     "metadata": {},
     "output_type": "execute_result"
    }
   ],
   "source": [
    "timeseries = pytrends.interest_over_time()\n",
    "timeseries.reset_index(inplace=True)\n",
    "timeseries.rename(columns={'date':'datetime', keywords[0]: 'value', 'isPartial':'partial'}, inplace=True)\n",
    "timeseries.head(10)"
   ]
  },
  {
   "cell_type": "markdown",
   "id": "4c830d05-9a39-48ec-b15d-4941c71a3626",
   "metadata": {},
   "source": [
    "<b>5. Top and Rising Queries</b>"
   ]
  },
  {
   "cell_type": "code",
   "execution_count": 6,
   "id": "e8595e7d-2f7f-4c9a-83a1-c4bc62214f77",
   "metadata": {},
   "outputs": [
    {
     "name": "stdout",
     "output_type": "stream",
     "text": [
      "Top\n",
      "                query  value\n",
      "0          gaun merah    100\n",
      "1       dj gaun merah     32\n",
      "2  karaoke gaun merah     14\n",
      "3     lagu gaun merah     10\n",
      "4    gaun merah remix      7\n",
      "5    gaun merah cover      6\n",
      "6    sonia gaun merah      3\n"
     ]
    }
   ],
   "source": [
    "# Top\n",
    "related_queries = pytrends.related_queries()\n",
    "top_queries = related_queries[keywords[0]]['top']\n",
    "print(\"Top\")\n",
    "print(top_queries)"
   ]
  },
  {
   "cell_type": "code",
   "execution_count": 7,
   "id": "a2ba4176-727a-4001-8fc0-1a925373c3b0",
   "metadata": {},
   "outputs": [
    {
     "name": "stdout",
     "output_type": "stream",
     "text": [
      "\n",
      "Rising\n",
      "None\n"
     ]
    }
   ],
   "source": [
    "# Rising\n",
    "print(\"\")\n",
    "print(\"Rising\")\n",
    "rising_queries = related_queries[keywords[0]]['rising']\n",
    "print(rising_queries)"
   ]
  },
  {
   "cell_type": "markdown",
   "id": "316b420c-02d4-4f43-b8d0-6d09af1470ea",
   "metadata": {},
   "source": [
    "<b>6. Related topcis</b>"
   ]
  },
  {
   "cell_type": "code",
   "execution_count": 8,
   "id": "6daa111d-a96a-4ba3-a476-eda2d0ef88f6",
   "metadata": {},
   "outputs": [
    {
     "name": "stdout",
     "output_type": "stream",
     "text": [
      "Top\n",
      "    value      topic_title              topic_type\n",
      "0     100       Gaun Merah          Song by Tryana\n",
      "1      65            Dress                 Garment\n",
      "2      42    DJ Gaun Merah         Song by DJ Acan\n",
      "3      34              Red                   Color\n",
      "4       6     Jungle music           Musical genre\n",
      "5       6   Dutch language         Spoken language\n",
      "6       5       Vita Alvia          Musical artist\n",
      "7       4        Gala Gala     Song by Rhoma Irama\n",
      "8       3  Purnama Merindu  Song by Siti Nurhaliza\n",
      "9       3           Tryana          Musical artist\n",
      "10      3    Vanny Vabiola                  Singer\n"
     ]
    }
   ],
   "source": [
    "# Top\n",
    "related_topics = pytrends.related_topics()\n",
    "top_topics = related_topics[keywords[0]]['top']\n",
    "print(\"Top\")\n",
    "print(top_topics[['value', 'topic_title', 'topic_type']])"
   ]
  },
  {
   "cell_type": "code",
   "execution_count": 9,
   "id": "e7b0da04-09bf-4b66-929d-e27bfd20c13e",
   "metadata": {},
   "outputs": [
    {
     "name": "stdout",
     "output_type": "stream",
     "text": [
      "\n",
      "Rising\n",
      "   value      topic_title              topic_type\n",
      "0    200    Vanny Vabiola                  Singer\n",
      "1    180  Purnama Merindu  Song by Siti Nurhaliza\n",
      "2     90       Vita Alvia          Musical artist\n",
      "3     70        Gala Gala     Song by Rhoma Irama\n",
      "4     70           Tryana          Musical artist\n"
     ]
    }
   ],
   "source": [
    "# Rising\n",
    "print(\"\")\n",
    "print(\"Rising\")\n",
    "rising_topics = related_topics[keywords[0]]['rising']\n",
    "print(rising_topics[['value', 'topic_title', 'topic_type']])"
   ]
  },
  {
   "cell_type": "markdown",
   "id": "a11579a5-c5c3-4008-89df-c2725080e519",
   "metadata": {},
   "source": [
    "<b>Interest by Region</b>"
   ]
  },
  {
   "cell_type": "code",
   "execution_count": 10,
   "id": "4bbac8a3-1af9-4406-b919-8dffd20ca677",
   "metadata": {},
   "outputs": [
    {
     "data": {
      "text/html": [
       "<div>\n",
       "<style scoped>\n",
       "    .dataframe tbody tr th:only-of-type {\n",
       "        vertical-align: middle;\n",
       "    }\n",
       "\n",
       "    .dataframe tbody tr th {\n",
       "        vertical-align: top;\n",
       "    }\n",
       "\n",
       "    .dataframe thead th {\n",
       "        text-align: right;\n",
       "    }\n",
       "</style>\n",
       "<table border=\"1\" class=\"dataframe\">\n",
       "  <thead>\n",
       "    <tr style=\"text-align: right;\">\n",
       "      <th></th>\n",
       "      <th>wilayah</th>\n",
       "      <th>value</th>\n",
       "    </tr>\n",
       "  </thead>\n",
       "  <tbody>\n",
       "    <tr>\n",
       "      <th>0</th>\n",
       "      <td>Aceh</td>\n",
       "      <td>45</td>\n",
       "    </tr>\n",
       "    <tr>\n",
       "      <th>1</th>\n",
       "      <td>Bali</td>\n",
       "      <td>21</td>\n",
       "    </tr>\n",
       "    <tr>\n",
       "      <th>2</th>\n",
       "      <td>Bangka Belitung Islands</td>\n",
       "      <td>83</td>\n",
       "    </tr>\n",
       "    <tr>\n",
       "      <th>3</th>\n",
       "      <td>Banten</td>\n",
       "      <td>11</td>\n",
       "    </tr>\n",
       "    <tr>\n",
       "      <th>4</th>\n",
       "      <td>Bengkulu</td>\n",
       "      <td>30</td>\n",
       "    </tr>\n",
       "    <tr>\n",
       "      <th>5</th>\n",
       "      <td>Central Java</td>\n",
       "      <td>42</td>\n",
       "    </tr>\n",
       "    <tr>\n",
       "      <th>6</th>\n",
       "      <td>Central Kalimantan</td>\n",
       "      <td>16</td>\n",
       "    </tr>\n",
       "    <tr>\n",
       "      <th>7</th>\n",
       "      <td>Central Sulawesi</td>\n",
       "      <td>28</td>\n",
       "    </tr>\n",
       "    <tr>\n",
       "      <th>8</th>\n",
       "      <td>East Java</td>\n",
       "      <td>39</td>\n",
       "    </tr>\n",
       "    <tr>\n",
       "      <th>9</th>\n",
       "      <td>East Kalimantan</td>\n",
       "      <td>29</td>\n",
       "    </tr>\n",
       "    <tr>\n",
       "      <th>10</th>\n",
       "      <td>East Nusa Tenggara</td>\n",
       "      <td>31</td>\n",
       "    </tr>\n",
       "    <tr>\n",
       "      <th>11</th>\n",
       "      <td>Gorontalo</td>\n",
       "      <td>19</td>\n",
       "    </tr>\n",
       "    <tr>\n",
       "      <th>12</th>\n",
       "      <td>Jambi</td>\n",
       "      <td>27</td>\n",
       "    </tr>\n",
       "    <tr>\n",
       "      <th>13</th>\n",
       "      <td>Lampung</td>\n",
       "      <td>46</td>\n",
       "    </tr>\n",
       "    <tr>\n",
       "      <th>14</th>\n",
       "      <td>Maluku</td>\n",
       "      <td>29</td>\n",
       "    </tr>\n",
       "    <tr>\n",
       "      <th>15</th>\n",
       "      <td>North Kalimantan</td>\n",
       "      <td>0</td>\n",
       "    </tr>\n",
       "    <tr>\n",
       "      <th>16</th>\n",
       "      <td>North Maluku</td>\n",
       "      <td>0</td>\n",
       "    </tr>\n",
       "    <tr>\n",
       "      <th>17</th>\n",
       "      <td>North Sulawesi</td>\n",
       "      <td>14</td>\n",
       "    </tr>\n",
       "    <tr>\n",
       "      <th>18</th>\n",
       "      <td>North Sumatra</td>\n",
       "      <td>69</td>\n",
       "    </tr>\n",
       "    <tr>\n",
       "      <th>19</th>\n",
       "      <td>Papua</td>\n",
       "      <td>16</td>\n",
       "    </tr>\n",
       "    <tr>\n",
       "      <th>20</th>\n",
       "      <td>Riau</td>\n",
       "      <td>100</td>\n",
       "    </tr>\n",
       "    <tr>\n",
       "      <th>21</th>\n",
       "      <td>Riau Islands</td>\n",
       "      <td>47</td>\n",
       "    </tr>\n",
       "    <tr>\n",
       "      <th>22</th>\n",
       "      <td>South East Sulawesi</td>\n",
       "      <td>0</td>\n",
       "    </tr>\n",
       "    <tr>\n",
       "      <th>23</th>\n",
       "      <td>South Kalimantan</td>\n",
       "      <td>55</td>\n",
       "    </tr>\n",
       "    <tr>\n",
       "      <th>24</th>\n",
       "      <td>South Sulawesi</td>\n",
       "      <td>38</td>\n",
       "    </tr>\n",
       "    <tr>\n",
       "      <th>25</th>\n",
       "      <td>South Sumatra</td>\n",
       "      <td>35</td>\n",
       "    </tr>\n",
       "    <tr>\n",
       "      <th>26</th>\n",
       "      <td>Special Capital Region of Jakarta</td>\n",
       "      <td>27</td>\n",
       "    </tr>\n",
       "    <tr>\n",
       "      <th>27</th>\n",
       "      <td>Special Region of Yogyakarta</td>\n",
       "      <td>17</td>\n",
       "    </tr>\n",
       "    <tr>\n",
       "      <th>28</th>\n",
       "      <td>West Java</td>\n",
       "      <td>30</td>\n",
       "    </tr>\n",
       "    <tr>\n",
       "      <th>29</th>\n",
       "      <td>West Kalimantan</td>\n",
       "      <td>58</td>\n",
       "    </tr>\n",
       "    <tr>\n",
       "      <th>30</th>\n",
       "      <td>West Nusa Tenggara</td>\n",
       "      <td>36</td>\n",
       "    </tr>\n",
       "    <tr>\n",
       "      <th>31</th>\n",
       "      <td>West Papua</td>\n",
       "      <td>0</td>\n",
       "    </tr>\n",
       "    <tr>\n",
       "      <th>32</th>\n",
       "      <td>West Sulawesi</td>\n",
       "      <td>0</td>\n",
       "    </tr>\n",
       "    <tr>\n",
       "      <th>33</th>\n",
       "      <td>West Sumatra</td>\n",
       "      <td>68</td>\n",
       "    </tr>\n",
       "  </tbody>\n",
       "</table>\n",
       "</div>"
      ],
      "text/plain": [
       "                              wilayah  value\n",
       "0                                Aceh     45\n",
       "1                                Bali     21\n",
       "2             Bangka Belitung Islands     83\n",
       "3                              Banten     11\n",
       "4                            Bengkulu     30\n",
       "5                        Central Java     42\n",
       "6                  Central Kalimantan     16\n",
       "7                    Central Sulawesi     28\n",
       "8                           East Java     39\n",
       "9                     East Kalimantan     29\n",
       "10                 East Nusa Tenggara     31\n",
       "11                          Gorontalo     19\n",
       "12                              Jambi     27\n",
       "13                            Lampung     46\n",
       "14                             Maluku     29\n",
       "15                   North Kalimantan      0\n",
       "16                       North Maluku      0\n",
       "17                     North Sulawesi     14\n",
       "18                      North Sumatra     69\n",
       "19                              Papua     16\n",
       "20                               Riau    100\n",
       "21                       Riau Islands     47\n",
       "22                South East Sulawesi      0\n",
       "23                   South Kalimantan     55\n",
       "24                     South Sulawesi     38\n",
       "25                      South Sumatra     35\n",
       "26  Special Capital Region of Jakarta     27\n",
       "27       Special Region of Yogyakarta     17\n",
       "28                          West Java     30\n",
       "29                    West Kalimantan     58\n",
       "30                 West Nusa Tenggara     36\n",
       "31                         West Papua      0\n",
       "32                      West Sulawesi      0\n",
       "33                       West Sumatra     68"
      ]
     },
     "execution_count": 10,
     "metadata": {},
     "output_type": "execute_result"
    }
   ],
   "source": [
    "interest_by_region = pytrends.interest_by_region(resolution='COUNTRY', inc_low_vol=True, inc_geo_code=True)\n",
    "interest_by_region.reset_index(inplace=True)\n",
    "interest_by_region.rename(columns={'geoName':'wilayah', 'geoCode': 'kode', keywords[0]:'value'}, inplace=True)\n",
    "interest_by_region[['wilayah', 'value']]"
   ]
  }
 ],
 "metadata": {
  "kernelspec": {
   "display_name": "google-trends",
   "language": "python",
   "name": "google-trends"
  },
  "language_info": {
   "codemirror_mode": {
    "name": "ipython",
    "version": 3
   },
   "file_extension": ".py",
   "mimetype": "text/x-python",
   "name": "python",
   "nbconvert_exporter": "python",
   "pygments_lexer": "ipython3",
   "version": "3.9.9"
  }
 },
 "nbformat": 4,
 "nbformat_minor": 5
}
